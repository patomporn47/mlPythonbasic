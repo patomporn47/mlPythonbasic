{
 "cells": [
  {
   "cell_type": "markdown",
   "metadata": {},
   "source": [
    "1. Install SciKitLearn "
   ]
  },
  {
   "cell_type": "code",
   "execution_count": null,
   "metadata": {},
   "outputs": [],
   "source": [
    "! pip install scikit-learn\n"
   ]
  },
  {
   "cell_type": "markdown",
   "metadata": {},
   "source": [
    "2. เรียก ดูว่า SCIKITLEARN ได้ติดตั้ง ไว้แล้วหรือยัง"
   ]
  },
  {
   "cell_type": "code",
   "execution_count": null,
   "metadata": {},
   "outputs": [],
   "source": [
    "! pip show scikit-learn\n"
   ]
  },
  {
   "cell_type": "markdown",
   "metadata": {},
   "source": [
    "3. ทดสอบ Load Datasets package from scikit-learn"
   ]
  },
  {
   "cell_type": "code",
   "execution_count": null,
   "metadata": {},
   "outputs": [],
   "source": [
    "from sklearn import datasets\n",
    "import pandas as pd\n",
    "\n",
    "# เรียกดูรายการ dataset ทั้งหมด \n",
    "dir(datasets)\n",
    "\n",
    "# ดูเฉพาะ Dataset ที่ขึ้นต้นด้วย \"load\"\n",
    "[data for data in dir(datasets) if data.startswith(\"load\")]\n",
    "\n",
    "# โหลด iris เข้า dataset\n",
    "iris_dataset = datasets.load_iris()\n",
    "\n",
    "# แสดงรายการ datasets\n",
    "#iris_dataset\n",
    " \n",
    " # โหลด data เข้า dataframe ของ Pandas\n",
    "df = pd.DataFrame(data=iris_dataset.data, columns=iris_dataset.feature_names)\n",
    "\n",
    "#df = pd.DataFrame(data=iris_dataset.data, columns=iris_dataset.target) # run ไม่ออก \n",
    "\n",
    "df"
   ]
  },
  {
   "cell_type": "markdown",
   "metadata": {},
   "source": [
    "4. การแบ่งข่อมูลออกเป็น ชุดสอน (Train) และชุด (Test)\n"
   ]
  },
  {
   "cell_type": "code",
   "execution_count": 16,
   "metadata": {},
   "outputs": [
    {
     "name": "stdout",
     "output_type": "stream",
     "text": [
      "x_train shape: (120, 4)\n",
      "x_test shape: (30, 4)\n",
      "y_train shape: (120,)\n",
      "y_test shape: (30,)\n"
     ]
    }
   ],
   "source": [
    "# Import Datasets Iris จาก SciKit-Learn\n",
    "from sklearn.datasets import load_iris\n",
    "\n",
    "# Import function train_test_split จาก scikit-learn\n",
    "from sklearn.model_selection import train_test_split\n",
    "\n",
    "# แบ่งข้อมูล ออกเป็น 2 ส่วน คือ Test and Train\n",
    "x_train, x_test, y_train, y_test = train_test_split(\n",
    "    iris_dataset['data'],\n",
    "    iris_dataset['target'],\n",
    "    test_size=0.2, # ใส่ Size เป้นตัวแบ่ง File Train and Test \n",
    "    random_state=0 # เริ่มรันจาก state ของ ข้อมูลเดิม ทุกๆ ที่รัน \n",
    "    # ถ้าเราไม่ได้ใส่ มันจะ สุ่ม ข้อมูลใหม่ ทุกๆ ครั้งที่ รัน\n",
    ")\n",
    "\n",
    "print('x_train shape: {}'.format(x_train.shape))\n",
    "print('x_test shape: {}'.format(x_test.shape))\n",
    "print('y_train shape: {}'.format(y_train.shape))\n",
    "print('y_test shape: {}'.format(y_test.shape))"
   ]
  },
  {
   "cell_type": "markdown",
   "metadata": {},
   "source": [
    "5. ตัวอย่างการแย่งข้อมูล digit ที่อยู่ใน SCIKIT LEARN\n"
   ]
  },
  {
   "cell_type": "code",
   "execution_count": 19,
   "metadata": {},
   "outputs": [
    {
     "name": "stdout",
     "output_type": "stream",
     "text": [
      "Image data shape (1797, 64)\n",
      "x_train shape: (1527, 64)\n",
      "x_test shape: (270, 64)\n",
      "y_train shape: (1527,)\n",
      "y_test shape: (270,)\n"
     ]
    }
   ],
   "source": [
    "from sklearn.datasets import load_digits\n",
    "import pandas as pd\n",
    "\n",
    "from sklearn.model_selection import train_test_split\n",
    "\n",
    "# โหลดข้อมูล digits จาก sci-kit learn\n",
    "digits = load_digits()\n",
    "\n",
    "print('Image data shape', digits.data.shape)\n",
    "\n",
    "# โหลด ข้อมูลเข้า pandas frame \n",
    "df = pd.DataFrame(data=digits.data, columns= digits.feature_names)\n",
    "#df\n",
    "\n",
    "x_train, x_test, y_train, y_test = train_test_split(\n",
    "    digits['data'],\n",
    "    digits['target'],\n",
    "    test_size= 0.15, # train size = 85%\n",
    "    random_state=0\n",
    ")\n",
    "\n",
    "print('x_train shape: {}'.format(x_train.shape))\n",
    "print('x_test shape: {}'.format(x_test.shape))\n",
    "print('y_train shape: {}'.format(y_train.shape))\n",
    "print('y_test shape: {}'.format(y_test.shape))\n",
    "\n"
   ]
  }
 ],
 "metadata": {
  "kernelspec": {
   "display_name": "env",
   "language": "python",
   "name": "python3"
  },
  "language_info": {
   "codemirror_mode": {
    "name": "ipython",
    "version": 3
   },
   "file_extension": ".py",
   "mimetype": "text/x-python",
   "name": "python",
   "nbconvert_exporter": "python",
   "pygments_lexer": "ipython3",
   "version": "3.12.3"
  }
 },
 "nbformat": 4,
 "nbformat_minor": 2
}
