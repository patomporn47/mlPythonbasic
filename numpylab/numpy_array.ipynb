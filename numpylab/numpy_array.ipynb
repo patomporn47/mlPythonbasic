{
 "cells": [
  {
   "cell_type": "markdown",
   "metadata": {},
   "source": [
    "1. ตรวจสอบว่ามี Library ของ Numpy ถูกติดตั้งก่อนหรือไม่"
   ]
  },
  {
   "cell_type": "code",
   "execution_count": null,
   "metadata": {},
   "outputs": [],
   "source": [
    "!pip show numpy"
   ]
  },
  {
   "cell_type": "markdown",
   "metadata": {},
   "source": [
    "2. ถ้ายังไม่ได้ติดัังให้ทำการติดตั้ง Library ของ numpy โดยใช้คำสั่ง"
   ]
  },
  {
   "cell_type": "code",
   "execution_count": null,
   "metadata": {},
   "outputs": [],
   "source": [
    "!pip install numpy"
   ]
  },
  {
   "cell_type": "markdown",
   "metadata": {},
   "source": [
    "3. การสร้าง array ใน Numpy สามารถทำได้โดยใช้คำสั่ง np.array()"
   ]
  },
  {
   "cell_type": "code",
   "execution_count": null,
   "metadata": {},
   "outputs": [],
   "source": [
    "import numpy as np\n",
    "# Array แบบ 1 and n dimension \n",
    "# Array แบบ Scalar\n",
    "# Array แบบ Vector \n",
    "a = np.array(10)\n",
    "print(a)\n",
    "\n",
    "row = np.array([1,2,3]) # 1 row 3 columns\n",
    "colum = np.array([[4],[5],[6]])\n",
    "\n",
    "print(colum)\n",
    "print(row)\n",
    "\n",
    "# Array แบบ Matrix  2 rows ,3 columns\n",
    "matrix = np.array([[1,2,3],[4,5,6]])\n",
    "print(matrix)\n",
    "\n"
   ]
  },
  {
   "cell_type": "markdown",
   "metadata": {},
   "source": [
    "4. การสร้างตัวเลขสุ่ม ใน Numpy สามารถใช้ func np.random"
   ]
  },
  {
   "cell_type": "code",
   "execution_count": 65,
   "metadata": {},
   "outputs": [
    {
     "name": "stdout",
     "output_type": "stream",
     "text": [
      "[4 4 2 7 7]\n",
      "[0.67308801 0.70883032 0.72205876 0.15316203 0.18736029]\n"
     ]
    }
   ],
   "source": [
    "# ตัวอย่างการ Random เลขจำนวนเต็ม 0-9 ขนาด 5 ตัว \n",
    "\n",
    "ran1 = np.random.randint(0,10,5) # เราจะได้ Vector 1 row 5 columns\n",
    "print(ran1)\n",
    "\n",
    "ran2 = np.random.random(5)\n",
    "print(ran2)\n"
   ]
  },
  {
   "cell_type": "markdown",
   "metadata": {},
   "source": [
    "5. ในตัว numpy สามารถเข้าถึง สมาชิกใน array และสามารถเลือกสมาชิกใน array ด้วย numpy"
   ]
  },
  {
   "cell_type": "code",
   "execution_count": null,
   "metadata": {},
   "outputs": [],
   "source": [
    "vrow = np.array([1,2,3,4,5,6,7,8,9,10]) # 1 row 10 columns\n",
    "\n",
    "print(vrow) #แสดงค่าทั้งหมดของ Array \n",
    "print(vrow[3]) #แสดงค่าตำแหน่ง 3 ของ Array \n",
    "\n",
    "print(vrow[2:6])  # แสดงค่าตำแหน่งที่ 2-6 มันจะไม่เอา ตำแหน่งที่ 6 \n",
    "print(vrow[:5]) # แสดงค่าตำแหน่ง 0-5\n",
    "print(vrow[6:]) # แสดงค่าตำแหน่ง ที่ 6 จนถึงสุดท้าย \n",
    "print(vrow[-3:-1]) # แสดงค่าตำแหน่งที่ 1 ตัวสุดท้าย\n",
    "\n"
   ]
  },
  {
   "cell_type": "markdown",
   "metadata": {},
   "source": [
    "6. การหาค่าทาง stat ใน numpy โดยใช้คำสั่ง"
   ]
  },
  {
   "cell_type": "code",
   "execution_count": 74,
   "metadata": {},
   "outputs": [
    {
     "name": "stdout",
     "output_type": "stream",
     "text": [
      "[[ 1  2  3  4]\n",
      " [ 5  6  7  8]\n",
      " [ 9 10 11 12]]\n",
      "Max:  12\n",
      "Min:  1\n",
      "Mean: 6.5\n",
      "Median: 6.5\n",
      "Standard Deviation:  3.452052529534663\n",
      "Variance:  11.916666666666666\n"
     ]
    }
   ],
   "source": [
    "stat1 = np.array([[1,2,3,4], [5,6,7,8], [9,10,11,12]])\n",
    "print(stat1)\n",
    "\n",
    "# การหาค่า สูงสุด \n",
    "print(\"Max: \", np.max(stat1))\n",
    "print(\"Min: \",np.min(stat1))\n",
    "print(\"Mean:\",np.mean(stat1))\n",
    "print(\"Median:\", np.median(stat1))\n",
    "print(\"Standard Deviation: \", np.std(stat1))\n",
    "print(\"Variance: \", np.var(stat1))"
   ]
  }
 ],
 "metadata": {
  "kernelspec": {
   "display_name": "env",
   "language": "python",
   "name": "python3"
  },
  "language_info": {
   "codemirror_mode": {
    "name": "ipython",
    "version": 3
   },
   "file_extension": ".py",
   "mimetype": "text/x-python",
   "name": "python",
   "nbconvert_exporter": "python",
   "pygments_lexer": "ipython3",
   "version": "3.12.3"
  }
 },
 "nbformat": 4,
 "nbformat_minor": 2
}
